{
 "cells": [
  {
   "cell_type": "markdown",
   "metadata": {},
   "source": [
    "## Datacube setup"
   ]
  },
  {
   "cell_type": "code",
   "execution_count": null,
   "metadata": {},
   "outputs": [],
   "source": [
    "import datacube\n",
    "import datetime\n",
    "\n",
    "dc = datacube.Datacube(app='land valuation')"
   ]
  },
  {
   "cell_type": "markdown",
   "metadata": {},
   "source": [
    "## Set common parameters for analysis"
   ]
  },
  {
   "cell_type": "code",
   "execution_count": null,
   "metadata": {},
   "outputs": [],
   "source": [
    "date_range = (\n",
    "    datetime.datetime(2013, 1, 1),\n",
    "    datetime.datetime(2018, 1, 1))\n",
    "\n",
    "# # extents for Sydney area\n",
    "# bounding_box_x = (150, 151.37)\n",
    "# bounding_box_y = (-34.36, -32.96)\n",
    "\n",
    "# extents for area around Kensington (small)\n",
    "bounding_box_x = (151.1735, 151.2752)\n",
    "bounding_box_y = (-33.9399, -33.8741)\n",
    "\n",
    "# GDA94 / NSW Lambert\n",
    "crs = 'epsg:3308'\n",
    "resolution = (-40, 40)"
   ]
  },
  {
   "cell_type": "markdown",
   "metadata": {},
   "source": [
    "## Load land valuation dataset"
   ]
  },
  {
   "cell_type": "code",
   "execution_count": null,
   "metadata": {},
   "outputs": [],
   "source": [
    "ds_land_valuation = dc.load(\n",
    "    product='valuation_pa',\n",
    "    x=bounding_box_x,\n",
    "    y=bounding_box_y, \n",
    "    output_crs=crs,\n",
    "    resolution=resolution)"
   ]
  },
  {
   "cell_type": "markdown",
   "metadata": {},
   "source": [
    "## Plot land valuation"
   ]
  },
  {
   "cell_type": "code",
   "execution_count": null,
   "metadata": {},
   "outputs": [],
   "source": [
    "%matplotlib inline\n",
    "ds_land_valuation_plot = ds_land_valuation.isel(time=[0,1,2,3,4]).band1.plot(\n",
    "    col='time', col_wrap=2, robust=True, aspect=ds_land_valuation.dims['x'] / ds_land_valuation.dims['y'],\n",
    "    subplot_kws={'xticks': [], 'yticks': [], 'xlabel': '', 'yLabel': ''})\n",
    "ds_land_valuation_plot.set_axis_labels('','')"
   ]
  },
  {
   "cell_type": "markdown",
   "metadata": {},
   "source": [
    "## Load railway station proximity dataset"
   ]
  },
  {
   "cell_type": "code",
   "execution_count": null,
   "metadata": {},
   "outputs": [],
   "source": [
    "ds_rail_prox = dc.load(\n",
    "    product='rail',\n",
    "    x=bounding_box_x,\n",
    "    y=bounding_box_y, \n",
    "    output_crs=crs,\n",
    "    resolution=resolution)\n",
    "\n",
    "# drop time dimension\n",
    "ds_rail_prox = ds_rail_prox.isel(time=0).drop('time')\n",
    "\n",
    "%matplotlib inline\n",
    "ds_rail_prox_plot = ds_rail_prox.band1.plot(\n",
    "   robust=True, size=4, aspect=ds_rail_prox.dims['x'] / ds_rail_prox.dims['y'])"
   ]
  },
  {
   "cell_type": "code",
   "execution_count": null,
   "metadata": {},
   "outputs": [],
   "source": [
    "import numpy as np\n",
    "\n",
    "bins = [0, 1000, 2000, 3000, 4000]\n",
    "labels = [\"0 - 1000 m\", \"1000 - 2000 m\", \"2000 - 3000 m\", \"3000- 4000 m\", \"4000+ m\"]\n",
    "\n",
    "rail_prox_values = ds_rail_prox.band1.values\n",
    "bins = [0, 1000, 2000, 3000, 4000]\n",
    "rail_prox_values_bin = np.digitize(rail_prox_values, bins)\n",
    "\n",
    "ds_rail_prox_bin = ds_rail_prox.copy()\n",
    "ds_rail_prox_bin.band1.values = rail_prox_values_bin\n",
    "\n",
    "ds_rail_prox_bin = ds_rail_prox_bin.rename({'band1': 'rail'})\n",
    "\n",
    "%matplotlib inline\n",
    "ds_rail_prox_bin.rail.plot(\n",
    "   robust=True, size=4, aspect=ds_rail_prox_bin.dims['x'] / ds_rail_prox_bin.dims['y'])\n"
   ]
  },
  {
   "cell_type": "code",
   "execution_count": null,
   "metadata": {},
   "outputs": [],
   "source": [
    "import xarray as xr\n",
    "value_and_rail = xr.merge([ds_land_valuation, ds_rail_prox_bin])\n",
    "\n",
    "value_and_rail_masked_1 = value_and_rail.where(value_and_rail['rail'] == 1)\n",
    "value_and_rail_masked_2 = value_and_rail.where(value_and_rail['rail'] == 2)\n",
    "value_and_rail_masked_3 = value_and_rail.where(value_and_rail['rail'] == 3)\n",
    "value_and_rail_masked_4 = value_and_rail.where(value_and_rail['rail'] == 4)\n",
    "value_and_rail_masked_5 = value_and_rail.where(value_and_rail['rail'] == 5)\n",
    "\n",
    "value_and_rail_masked_1 = value_and_rail_masked_1.assign_coords(distance_from_rail_station=('d < 1000m'))\n",
    "value_and_rail_masked_2 = value_and_rail_masked_2.assign_coords(distance_from_rail_station=('1000m <= d < 2000m'))\n",
    "value_and_rail_masked_3 = value_and_rail_masked_3.assign_coords(distance_from_rail_station=('2000m <= d < 3000m'))\n",
    "value_and_rail_masked_4 = value_and_rail_masked_4.assign_coords(distance_from_rail_station=('3000m <= d < 4000m'))\n",
    "value_and_rail_masked_5 = value_and_rail_masked_5.assign_coords(distance_from_rail_station=('4000m <= d'))\n",
    "\n",
    "value_and_rail_all = xr.concat([value_and_rail_masked_1, value_and_rail_masked_2, value_and_rail_masked_3, value_and_rail_masked_4, value_and_rail_masked_5], dim='distance_from_rail_station')\n",
    "\n",
    "value_and_rail_all_mean = value_and_rail_all.mean(dim=['x', 'y'], skipna=True)\n",
    "value_and_rail_all_mean_pc = value_and_rail_all_mean / value_and_rail_all_mean.isel(time=0) * 100.0\n"
   ]
  },
  {
   "cell_type": "code",
   "execution_count": null,
   "metadata": {},
   "outputs": [],
   "source": [
    "import matplotlib.pyplot as plt\n",
    "import matplotlib.dates as mdates\n",
    "\n",
    "plt.ylabel('Mean land value increase (% since 2013)')\n",
    "plt.gca().xaxis.set_major_formatter(mdates.DateFormatter('%Y'))\n",
    "\n",
    "value_and_rail_all_mean_pc.band1.attrs['units'] = '%'\n",
    "value_and_rail_all_mean_pc.band1.plot(hue='distance_from_rail_station')\n"
   ]
  },
  {
   "cell_type": "code",
   "execution_count": null,
   "metadata": {},
   "outputs": [],
   "source": []
  }
 ],
 "metadata": {
  "kernelspec": {
   "display_name": "Python 3",
   "language": "python",
   "name": "python3"
  },
  "language_info": {
   "codemirror_mode": {
    "name": "ipython",
    "version": 3
   },
   "file_extension": ".py",
   "mimetype": "text/x-python",
   "name": "python",
   "nbconvert_exporter": "python",
   "pygments_lexer": "ipython3",
   "version": "3.6.7"
  }
 },
 "nbformat": 4,
 "nbformat_minor": 2
}
