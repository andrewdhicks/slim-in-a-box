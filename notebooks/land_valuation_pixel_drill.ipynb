{
 "cells": [
  {
   "cell_type": "markdown",
   "metadata": {},
   "source": [
    "## Set common parameters for analysis"
   ]
  },
  {
   "cell_type": "code",
   "execution_count": null,
   "metadata": {},
   "outputs": [],
   "source": [
    "# extents for Sydney area\n",
    "bounding_box_x = (150, 151.37)\n",
    "bounding_box_y = (-34.36, -32.96)\n",
    "\n",
    "# GDA94 / NSW Lambert\n",
    "crs = 'epsg:3308'\n",
    "resolution = (-40, 40)"
   ]
  },
  {
   "cell_type": "markdown",
   "metadata": {},
   "source": [
    "## Load land valuation data"
   ]
  },
  {
   "cell_type": "code",
   "execution_count": null,
   "metadata": {},
   "outputs": [],
   "source": [
    "import datacube\n",
    "\n",
    "dc = datacube.Datacube(app='land valuation')\n",
    "ds_land_valuation = dc.load(\n",
    "    product='valuation_pa',\n",
    "    x=bounding_box_x,\n",
    "    y=bounding_box_y, \n",
    "    output_crs=crs,\n",
    "    resolution=resolution)"
   ]
  },
  {
   "cell_type": "markdown",
   "metadata": {},
   "source": [
    "## Configuration of map widget and output chart"
   ]
  },
  {
   "cell_type": "code",
   "execution_count": null,
   "metadata": {},
   "outputs": [],
   "source": [
    "from datacube.utils import geometry\n",
    "from IPython.display import display,clear_output\n",
    "from ipyleaflet import Map, Marker\n",
    "import ipywidgets as widgets\n",
    "import matplotlib.pyplot as plt\n",
    "import numpy as np\n",
    "from pandas.plotting import register_matplotlib_converters\n",
    "\n",
    "\n",
    "%matplotlib inline\n",
    "%config InlineBackend.close_figures=False \n",
    "register_matplotlib_converters()\n",
    "\n",
    "plt.ioff()\n",
    "ax=plt.gca()\n",
    "\n",
    "mapCenter = [sum(bounding_box_y)/2, sum(bounding_box_x)/2]\n",
    "mapView = Map(center=mapCenter, zoom=8)\n",
    "mapCrs = geometry.CRS('EPSG:4326')\n",
    "marker = Marker(location=mapCenter, draggable=False, visible=False)\n",
    "mapView.add_layer(marker);\n",
    "\n",
    "outMap = widgets.Output()\n",
    "outMap.append_display_data(mapView)\n",
    "\n",
    "coordinates = widgets.Label(value='Click map to select location.')\n",
    "outMap.append_display_data(coordinates)\n",
    "\n",
    "outChart = widgets.Output(layout=widgets.Layout(height='300px', width = '100%'))\n",
    "vbox=widgets.VBox(children=(outMap,outChart))\n",
    "display(vbox)\n",
    "\n",
    "\n",
    "def handle_interaction(**kwargs):\n",
    "    if kwargs.get('type') == 'mouseup':\n",
    "        coords = kwargs.get('coordinates')\n",
    "        coordinates.value = str(coords)\n",
    "        marker.location = coords\n",
    "        marker.visible = True\n",
    "        \n",
    "        pt = geometry.point(coords[1], coords[0], mapCrs)\n",
    "        ptInDcCrs = pt.to_crs(ds_land_valuation.crs)\n",
    "        x, y = ptInDcCrs.points[0]\n",
    "        selection = ds_land_valuation.band1.sel(y=y, x=x, method='nearest')\n",
    "\n",
    "        if np.isnan(np.sum(selection.data)):\n",
    "            coordinates.value = coordinates.value + \" no data available for location\"\n",
    "            return\n",
    "        ax.clear()\n",
    "        try:\n",
    "            selection.plot(ax=ax)\n",
    "        except:\n",
    "            print(selection)\n",
    "        with outChart:\n",
    "            clear_output(wait=True)\n",
    "            display(ax.figure)\n",
    "\n",
    "mapView.on_interaction(handle_interaction)\n"
   ]
  },
  {
   "cell_type": "code",
   "execution_count": null,
   "metadata": {},
   "outputs": [],
   "source": []
  }
 ],
 "metadata": {
  "kernelspec": {
   "display_name": "Python 3",
   "language": "python",
   "name": "python3"
  },
  "language_info": {
   "codemirror_mode": {
    "name": "ipython",
    "version": 3
   },
   "file_extension": ".py",
   "mimetype": "text/x-python",
   "name": "python",
   "nbconvert_exporter": "python",
   "pygments_lexer": "ipython3",
   "version": "3.6.7"
  }
 },
 "nbformat": 4,
 "nbformat_minor": 2
}
