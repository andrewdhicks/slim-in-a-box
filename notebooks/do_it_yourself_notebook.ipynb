{
 "cells": [
  {
   "cell_type": "code",
   "execution_count": null,
   "metadata": {},
   "outputs": [],
   "source": [
    "coordinates = [149.829, 151.494, -34.391, -32.897]\n",
    "\n",
    "# For simplicity, store the centre X and Y coords\n",
    "centre_x = (coordinates[0] + coordinates[1]) / 2\n",
    "centre_y = (coordinates[2] + coordinates[3]) / 2\n",
    "\n",
    "# And now make a bounding box with them\n",
    "# Note that you can change the box_size to load more data. More data means longer load, though!\n",
    "box_size = 0.2\n",
    "bounding_box_x =  (centre_x - box_size, centre_x + box_size)\n",
    "bounding_box_y =  (centre_y - box_size, centre_y + box_size)"
   ]
  },
  {
   "cell_type": "code",
   "execution_count": null,
   "metadata": {},
   "outputs": [],
   "source": [
    "%%time\n",
    "import datacube\n",
    "\n",
    "dc = datacube.Datacube(app='do-it-yourself')\n",
    "\n",
    "# This command here does the loading of data\n",
    "# Please be patient, it can take some time to load, depending on the size of your study area\n",
    "# For the example study area, this took 30 seconds\n",
    "dataset = dc.load(\n",
    "    product='dlcd', \n",
    "    x=bounding_box_x,\n",
    "    y=bounding_box_y\n",
    ")"
   ]
  },
  {
   "cell_type": "code",
   "execution_count": null,
   "metadata": {},
   "outputs": [],
   "source": [
    "# This will give information on how much data was loaded\n",
    "# Most interesting is the 'Dimensions' section, that tells you how many timesteps were loaded\n",
    "# and the x/y resolution of the cube.\n",
    "dataset"
   ]
  },
  {
   "cell_type": "code",
   "execution_count": null,
   "metadata": {
    "scrolled": false
   },
   "outputs": [],
   "source": [
    "%matplotlib notebook\n",
    "dataset.band1.isel(time=0).plot(size=5)"
   ]
  },
  {
   "cell_type": "code",
   "execution_count": null,
   "metadata": {},
   "outputs": [],
   "source": [
    "%matplotlib notebook\n",
    "dataset.band1.isel(time=-1).plot(size=5)"
   ]
  },
  {
   "cell_type": "code",
   "execution_count": null,
   "metadata": {},
   "outputs": [],
   "source": []
  }
 ],
 "metadata": {
  "kernelspec": {
   "display_name": "Python 3",
   "language": "python",
   "name": "python3"
  },
  "language_info": {
   "codemirror_mode": {
    "name": "ipython",
    "version": 3
   },
   "file_extension": ".py",
   "mimetype": "text/x-python",
   "name": "python",
   "nbconvert_exporter": "python",
   "pygments_lexer": "ipython3",
   "version": "3.6.7"
  }
 },
 "nbformat": 4,
 "nbformat_minor": 2
}
