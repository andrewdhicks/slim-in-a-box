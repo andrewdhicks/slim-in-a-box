{
 "cells": [
  {
   "cell_type": "code",
   "execution_count": null,
   "metadata": {},
   "outputs": [],
   "source": [
    "import datacube\n",
    "import datetime\n",
    "\n",
    "dc = datacube.Datacube(app='dem')"
   ]
  },
  {
   "cell_type": "code",
   "execution_count": null,
   "metadata": {},
   "outputs": [],
   "source": [
    "# extents for Yarrangobilly area\n",
    "bounding_box_x = (148.3, 148.5)\n",
    "bounding_box_y = (-35.7, -35.6)\n",
    "\n",
    "crs = 'epsg:3308'\n",
    "resolution = (-5, 5)\n",
    "\n",
    "ds_dem = dc.load(\n",
    "    product='dem',\n",
    "    x=bounding_box_x,\n",
    "    y=bounding_box_y, \n",
    "    output_crs=crs,\n",
    "    resolution=resolution)\n",
    "ds_dem"
   ]
  },
  {
   "cell_type": "code",
   "execution_count": null,
   "metadata": {},
   "outputs": [],
   "source": [
    "%matplotlib inline\n",
    "ds_dem.band1.isel(time=0).plot(size=5, cmap='RdBu_r', vmin=500, vmax=1500)"
   ]
  },
  {
   "cell_type": "code",
   "execution_count": null,
   "metadata": {},
   "outputs": [],
   "source": []
  }
 ],
 "metadata": {
  "kernelspec": {
   "display_name": "Python 3",
   "language": "python",
   "name": "python3"
  },
  "language_info": {
   "codemirror_mode": {
    "name": "ipython",
    "version": 3
   },
   "file_extension": ".py",
   "mimetype": "text/x-python",
   "name": "python",
   "nbconvert_exporter": "python",
   "pygments_lexer": "ipython3",
   "version": "3.6.7"
  }
 },
 "nbformat": 4,
 "nbformat_minor": 2
}
