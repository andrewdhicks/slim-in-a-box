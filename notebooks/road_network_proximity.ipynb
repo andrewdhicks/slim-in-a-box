{
 "cells": [
  {
   "cell_type": "markdown",
   "metadata": {},
   "source": [
    "## Datacube setup"
   ]
  },
  {
   "cell_type": "code",
   "execution_count": 21,
   "metadata": {},
   "outputs": [],
   "source": [
    "import datacube\n",
    "import datetime\n",
    "\n",
    "dc = datacube.Datacube(app='proximity')\n"
   ]
  },
  {
   "cell_type": "markdown",
   "metadata": {},
   "source": [
    "## Print contents of datacube\n",
    "Optional step"
   ]
  },
  {
   "cell_type": "code",
   "execution_count": 22,
   "metadata": {},
   "outputs": [
    {
     "name": "stdout",
     "output_type": "stream",
     "text": [
      "# products\n",
      "            name                     description label  time  product_type  \\\n",
      "id                                                                           \n",
      "6           acid                       Acid Soil  None  None          acid   \n",
      "1           dlcd                            DLCD  None  None          dlcd   \n",
      "2            esl  Environmentally Sensitive Land  None  None           esl   \n",
      "3          flood                           Flood  None  None         flood   \n",
      "4           frga  Future Residential Growth Area  None  None          frga   \n",
      "5            her                        Heritage  None  None           her   \n",
      "7    lsc_overmod                SOil LSC Overmod  None  None   lsc_overmod   \n",
      "8           mass                     Soil Mass m  None  None          mass   \n",
      "15          rail       Railway Station Proximity  None  None          rail   \n",
      "16          road                  Road proximity  None  None          road   \n",
      "9       salinity                   Soil Salinity  None  None      salinity   \n",
      "10  shallow_rock               Soil Shallow Rock  None  None  shallow_rock   \n",
      "11     structure                  Soil Structure  None  None     structure   \n",
      "17     valuation                       Valuation  None  None     valuation   \n",
      "18  valuation_pa                    Valuation PA  None  None  valuation_pa   \n",
      "12         water                      Soil Water  None  None         water   \n",
      "13      waterlog                  Soil Water Log  None  None      waterlog   \n",
      "14  wind_erosion               Soil Wind Erosion  None  None  wind_erosion   \n",
      "\n",
      "     format instrument   lon   lat creation_time platform        crs  \\\n",
      "id                                                                     \n",
      "6   GeoTIFF       None  None  None          None     None  EPSG:3308   \n",
      "1   GeoTIFF       None  None  None          None     None  EPSG:3308   \n",
      "2   GeoTIFF       None  None  None          None     None  EPSG:3308   \n",
      "3   GeoTIFF       None  None  None          None     None  EPSG:3308   \n",
      "4   GeoTIFF       None  None  None          None     None  EPSG:3308   \n",
      "5   GeoTIFF       None  None  None          None     None  EPSG:3308   \n",
      "7   GeoTIFF       None  None  None          None     None  EPSG:3308   \n",
      "8   GeoTIFF       None  None  None          None     None  EPSG:3308   \n",
      "15  GeoTIFF       None  None  None          None     None  EPSG:3308   \n",
      "16  GeoTIFF       None  None  None          None     None  EPSG:3308   \n",
      "9   GeoTIFF       None  None  None          None     None  EPSG:3308   \n",
      "10  GeoTIFF       None  None  None          None     None  EPSG:3308   \n",
      "11  GeoTIFF       None  None  None          None     None  EPSG:3308   \n",
      "17  GeoTIFF       None  None  None          None     None  EPSG:3308   \n",
      "18  GeoTIFF       None  None  None          None     None  EPSG:3308   \n",
      "12  GeoTIFF       None  None  None          None     None  EPSG:3308   \n",
      "13  GeoTIFF       None  None  None          None     None  EPSG:3308   \n",
      "14  GeoTIFF       None  None  None          None     None  EPSG:3308   \n",
      "\n",
      "   resolution         tile_size spatial_dimensions  \n",
      "id                                                  \n",
      "6   (-20, 20)  (7437.0, 6241.0)             (y, x)  \n",
      "1   (-20, 20)  (8000.0, 8000.0)             (y, x)  \n",
      "2   (-20, 20)  (7437.0, 6241.0)             (y, x)  \n",
      "3   (-20, 20)  (7437.0, 6241.0)             (y, x)  \n",
      "4   (-20, 20)  (7437.0, 6241.0)             (y, x)  \n",
      "5   (-20, 20)  (7437.0, 6241.0)             (y, x)  \n",
      "7   (-20, 20)  (7437.0, 6241.0)             (y, x)  \n",
      "8   (-20, 20)  (7437.0, 6241.0)             (y, x)  \n",
      "15  (-20, 20)  (7437.0, 6241.0)             (y, x)  \n",
      "16  (-20, 20)  (7437.0, 6241.0)             (y, x)  \n",
      "9   (-20, 20)  (7437.0, 6241.0)             (y, x)  \n",
      "10  (-20, 20)  (7437.0, 6241.0)             (y, x)  \n",
      "11  (-20, 20)  (7437.0, 6241.0)             (y, x)  \n",
      "17  (-20, 20)  (8000.0, 8000.0)             (y, x)  \n",
      "18  (-20, 20)  (8000.0, 8000.0)             (y, x)  \n",
      "12  (-20, 20)  (7437.0, 6241.0)             (y, x)  \n",
      "13  (-20, 20)  (7437.0, 6241.0)             (y, x)  \n",
      "14  (-20, 20)  (7437.0, 6241.0)             (y, x)  \n",
      "\n",
      "# measurements\n",
      "                            dtype   name nodata units\n",
      "product      measurement                             \n",
      "acid         band1          int16  band1    NaN     1\n",
      "dlcd         band1          uint8  band1    NaN     1\n",
      "esl          band1          int16  band1    NaN     1\n",
      "flood        band1          int16  band1    NaN     1\n",
      "frga         band1          int16  band1    NaN     1\n",
      "her          band1          int16  band1    NaN     1\n",
      "lsc_overmod  band1          int16  band1    NaN     1\n",
      "mass         band1          int16  band1    NaN     1\n",
      "rail         band1        float32  band1    NaN     1\n",
      "road         band1        float32  band1    NaN     1\n",
      "salinity     band1          int16  band1    NaN     1\n",
      "shallow_rock band1          int16  band1    NaN     1\n",
      "structure    band1          int16  band1    NaN     1\n",
      "valuation    band1        float32  band1    NaN     1\n",
      "valuation_pa band1        float32  band1    NaN     1\n",
      "water        band1          int16  band1    NaN     1\n",
      "waterlog     band1          int16  band1    NaN     1\n",
      "wind_erosion band1          int16  band1    NaN     1\n",
      "\n"
     ]
    }
   ],
   "source": [
    "print(\"# products\")\n",
    "print(dc.list_products())\n",
    "print()\n",
    "\n",
    "print(\"# measurements\")\n",
    "print(dc.list_measurements())\n",
    "print()"
   ]
  },
  {
   "cell_type": "markdown",
   "metadata": {},
   "source": [
    "## Set common parameters for analysis"
   ]
  },
  {
   "cell_type": "code",
   "execution_count": null,
   "metadata": {},
   "outputs": [],
   "source": [
    "# extents for Sydney area\n",
    "bounding_box_x = (150, 151.37)\n",
    "bounding_box_y = (-34.36, -32.96)\n",
    "\n",
    "# GDA94 / NSW Lambert\n",
    "crs = 'epsg:3308'\n",
    "resolution = (-20, 20)"
   ]
  },
  {
   "cell_type": "markdown",
   "metadata": {},
   "source": [
    "## Load proximity data"
   ]
  },
  {
   "cell_type": "code",
   "execution_count": null,
   "metadata": {
    "scrolled": true
   },
   "outputs": [],
   "source": [
    "ds_road = dc.load(\n",
    "    product='road',\n",
    "    x=bounding_box_x,\n",
    "    y=bounding_box_y, \n",
    "    output_crs=crs,\n",
    "    resolution=resolution)\n",
    "\n",
    "print(ds_road)"
   ]
  },
  {
   "cell_type": "markdown",
   "metadata": {},
   "source": [
    "## Plot proximity data\n",
    "Optional step"
   ]
  },
  {
   "cell_type": "code",
   "execution_count": null,
   "metadata": {},
   "outputs": [],
   "source": [
    "%matplotlib notebook\n",
    "ds_road.band1.isel(time=0).plot(size=5)"
   ]
  },
  {
   "cell_type": "markdown",
   "metadata": {},
   "source": [
    "## Perform query"
   ]
  },
  {
   "cell_type": "code",
   "execution_count": null,
   "metadata": {},
   "outputs": [],
   "source": [
    "# Create mask of pixels between 200m and 600m in proximity\n",
    "ds_road_mask = (ds_road > 200) & (ds_road < 600)"
   ]
  },
  {
   "cell_type": "markdown",
   "metadata": {},
   "source": [
    "## Display query results"
   ]
  },
  {
   "cell_type": "code",
   "execution_count": null,
   "metadata": {},
   "outputs": [],
   "source": [
    "ds_road_mask.band1.isel(time=0).plot(size=5)"
   ]
  },
  {
   "cell_type": "code",
   "execution_count": null,
   "metadata": {},
   "outputs": [],
   "source": [
    "# sum values across all dimenstions (x, y, time)\n",
    "total_cell_count = ds_road_mask.band1.sum().values.item()\n",
    "\n",
    "# multiply cell count by area of each cell\n",
    "total_matching_area = total_cell_count * (abs(resolution[0]*resolution[1]))\n",
    "\n",
    "# SLIM result was 24729772m^2\n",
    "# https://sydney.landblade.com/#/query/5c92defbae52fd00018faa04\n",
    "print(\"Matching area = {} m^2\".format(total_matching_area))"
   ]
  },
  {
   "cell_type": "code",
   "execution_count": null,
   "metadata": {},
   "outputs": [],
   "source": []
  }
 ],
 "metadata": {
  "kernelspec": {
   "display_name": "Python 3",
   "language": "python",
   "name": "python3"
  },
  "language_info": {
   "codemirror_mode": {
    "name": "ipython",
    "version": 3
   },
   "file_extension": ".py",
   "mimetype": "text/x-python",
   "name": "python",
   "nbconvert_exporter": "python",
   "pygments_lexer": "ipython3",
   "version": "3.6.7"
  }
 },
 "nbformat": 4,
 "nbformat_minor": 2
}
