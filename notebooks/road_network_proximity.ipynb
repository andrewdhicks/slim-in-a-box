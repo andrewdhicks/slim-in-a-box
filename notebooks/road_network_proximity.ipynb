{
 "cells": [
  {
   "cell_type": "markdown",
   "metadata": {},
   "source": [
    "## Datacube setup"
   ]
  },
  {
   "cell_type": "code",
   "execution_count": null,
   "metadata": {},
   "outputs": [],
   "source": [
    "import datacube\n",
    "import datetime\n",
    "\n",
    "dc = datacube.Datacube(app='proximity')\n"
   ]
  },
  {
   "cell_type": "markdown",
   "metadata": {},
   "source": [
    "## Print contents of datacube\n",
    "Optional step"
   ]
  },
  {
   "cell_type": "code",
   "execution_count": null,
   "metadata": {},
   "outputs": [],
   "source": [
    "print(\"# products\")\n",
    "print(dc.list_products())\n",
    "print()\n",
    "\n",
    "print(\"# measurements\")\n",
    "print(dc.list_measurements())\n",
    "print()"
   ]
  },
  {
   "cell_type": "markdown",
   "metadata": {},
   "source": [
    "## Set common parameters for analysis"
   ]
  },
  {
   "cell_type": "code",
   "execution_count": null,
   "metadata": {},
   "outputs": [],
   "source": [
    "# extents for Sydney area\n",
    "bounding_box_x = (150, 151.37)\n",
    "bounding_box_y = (-34.36, -32.96)\n",
    "\n",
    "# GDA94 / NSW Lambert\n",
    "crs = 'epsg:3308'\n",
    "resolution = (-40, 40)"
   ]
  },
  {
   "cell_type": "markdown",
   "metadata": {},
   "source": [
    "## Load proximity data"
   ]
  },
  {
   "cell_type": "code",
   "execution_count": null,
   "metadata": {
    "scrolled": true
   },
   "outputs": [],
   "source": [
    "ds_road = dc.load(\n",
    "    product='road',\n",
    "    x=bounding_box_x,\n",
    "    y=bounding_box_y, \n",
    "    output_crs=crs,\n",
    "    resolution=resolution)\n",
    "\n",
    "print(ds_road)"
   ]
  },
  {
   "cell_type": "markdown",
   "metadata": {},
   "source": [
    "## Plot proximity data\n",
    "Optional step"
   ]
  },
  {
   "cell_type": "code",
   "execution_count": null,
   "metadata": {},
   "outputs": [],
   "source": [
    "%matplotlib inline\n",
    "ds_road.band1.isel(time=0).plot(size=5)"
   ]
  },
  {
   "cell_type": "markdown",
   "metadata": {},
   "source": [
    "## Perform query"
   ]
  },
  {
   "cell_type": "code",
   "execution_count": null,
   "metadata": {},
   "outputs": [],
   "source": [
    "# Create mask of pixels between 200m and 600m in proximity\n",
    "ds_road_mask = (ds_road > 200) & (ds_road < 600)"
   ]
  },
  {
   "cell_type": "markdown",
   "metadata": {},
   "source": [
    "## Display query results"
   ]
  },
  {
   "cell_type": "code",
   "execution_count": null,
   "metadata": {},
   "outputs": [],
   "source": [
    "ds_road_mask.band1.isel(time=0).plot(size=5)"
   ]
  },
  {
   "cell_type": "code",
   "execution_count": null,
   "metadata": {},
   "outputs": [],
   "source": [
    "# sum values across all dimenstions (x, y, time)\n",
    "total_cell_count = ds_road_mask.band1.sum().values.item()\n",
    "\n",
    "# multiply cell count by area of each cell\n",
    "total_matching_area = total_cell_count * (abs(resolution[0]*resolution[1]))\n",
    "\n",
    "# SLIM result was 24729772m^2\n",
    "# https://sydney.landblade.com/#/query/5c92defbae52fd00018faa04\n",
    "print(\"Matching area = {} m^2\".format(total_matching_area))"
   ]
  },
  {
   "cell_type": "code",
   "execution_count": null,
   "metadata": {},
   "outputs": [],
   "source": []
  }
 ],
 "metadata": {
  "kernelspec": {
   "display_name": "Python 3",
   "language": "python",
   "name": "python3"
  },
  "language_info": {
   "codemirror_mode": {
    "name": "ipython",
    "version": 3
   },
   "file_extension": ".py",
   "mimetype": "text/x-python",
   "name": "python",
   "nbconvert_exporter": "python",
   "pygments_lexer": "ipython3",
   "version": "3.6.7"
  }
 },
 "nbformat": 4,
 "nbformat_minor": 2
}
